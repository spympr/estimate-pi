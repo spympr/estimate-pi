{
  "nbformat": 4,
  "nbformat_minor": 0,
  "metadata": {
    "colab": {
      "name": "estimate_pi.ipynb",
      "provenance": [],
      "collapsed_sections": []
    },
    "kernelspec": {
      "name": "python3",
      "display_name": "Python 3"
    }
  },
  "cells": [
    {
      "cell_type": "code",
      "metadata": {
        "id": "Ff-besHvbeX7",
        "colab_type": "code",
        "colab": {
          "base_uri": "https://localhost:8080/",
          "height": 284
        },
        "outputId": "b3c17427-3900-4024-adc9-d05d56004aaf"
      },
      "source": [
        "import random \n",
        "import matplotlib.pyplot as plt\n",
        "import pandas as pd \n",
        "\n",
        "#Function which estimates pi's value with Monte Carlo's method.\n",
        "def estimate_pi(n):\n",
        "\n",
        "  total_points=0\n",
        "  points_inside_circle=0\n",
        "  \n",
        "  for i in range(n):\n",
        "    x = random.uniform(0,1)\n",
        "    y = random.uniform(0,1)\n",
        "    if (x**2+y**2) < 1:\n",
        "      points_inside_circle+=1\n",
        "    total_points+=1\n",
        "\n",
        "  return 4*points_inside_circle/total_points\n",
        "\n",
        "list_n = [10,100,1000,10000,100000,1000000,10000000,100000000]\n",
        "pi_s = []\n",
        "divs = []\n",
        "\n",
        "for n in list_n:\n",
        "  pi_=estimate_pi(n)\n",
        "  pi_s.append(pi_)\n",
        "  div = format(abs(3.14159265359-pi_),'.4f')\n",
        "  divs.append(div)\n",
        "\n",
        "data = {'n':list_n,'Estimated_pi':pi_s, 'Divergence from original pi':divs}   \n",
        "df = pd.DataFrame(data)   \n",
        "display(df) "
      ],
      "execution_count": 40,
      "outputs": [
        {
          "output_type": "display_data",
          "data": {
            "text/html": [
              "<div>\n",
              "<style scoped>\n",
              "    .dataframe tbody tr th:only-of-type {\n",
              "        vertical-align: middle;\n",
              "    }\n",
              "\n",
              "    .dataframe tbody tr th {\n",
              "        vertical-align: top;\n",
              "    }\n",
              "\n",
              "    .dataframe thead th {\n",
              "        text-align: right;\n",
              "    }\n",
              "</style>\n",
              "<table border=\"1\" class=\"dataframe\">\n",
              "  <thead>\n",
              "    <tr style=\"text-align: right;\">\n",
              "      <th></th>\n",
              "      <th>n</th>\n",
              "      <th>Estimated_pi</th>\n",
              "      <th>Divergence from original pi</th>\n",
              "    </tr>\n",
              "  </thead>\n",
              "  <tbody>\n",
              "    <tr>\n",
              "      <th>0</th>\n",
              "      <td>10</td>\n",
              "      <td>3.200000</td>\n",
              "      <td>0.0584</td>\n",
              "    </tr>\n",
              "    <tr>\n",
              "      <th>1</th>\n",
              "      <td>100</td>\n",
              "      <td>3.080000</td>\n",
              "      <td>0.0616</td>\n",
              "    </tr>\n",
              "    <tr>\n",
              "      <th>2</th>\n",
              "      <td>1000</td>\n",
              "      <td>3.112000</td>\n",
              "      <td>0.0296</td>\n",
              "    </tr>\n",
              "    <tr>\n",
              "      <th>3</th>\n",
              "      <td>10000</td>\n",
              "      <td>3.148400</td>\n",
              "      <td>0.0068</td>\n",
              "    </tr>\n",
              "    <tr>\n",
              "      <th>4</th>\n",
              "      <td>100000</td>\n",
              "      <td>3.144920</td>\n",
              "      <td>0.0033</td>\n",
              "    </tr>\n",
              "    <tr>\n",
              "      <th>5</th>\n",
              "      <td>1000000</td>\n",
              "      <td>3.140944</td>\n",
              "      <td>0.0006</td>\n",
              "    </tr>\n",
              "    <tr>\n",
              "      <th>6</th>\n",
              "      <td>10000000</td>\n",
              "      <td>3.141219</td>\n",
              "      <td>0.0004</td>\n",
              "    </tr>\n",
              "    <tr>\n",
              "      <th>7</th>\n",
              "      <td>100000000</td>\n",
              "      <td>3.141966</td>\n",
              "      <td>0.0004</td>\n",
              "    </tr>\n",
              "  </tbody>\n",
              "</table>\n",
              "</div>"
            ],
            "text/plain": [
              "           n  Estimated_pi Divergence from original pi\n",
              "0         10      3.200000                      0.0584\n",
              "1        100      3.080000                      0.0616\n",
              "2       1000      3.112000                      0.0296\n",
              "3      10000      3.148400                      0.0068\n",
              "4     100000      3.144920                      0.0033\n",
              "5    1000000      3.140944                      0.0006\n",
              "6   10000000      3.141219                      0.0004\n",
              "7  100000000      3.141966                      0.0004"
            ]
          },
          "metadata": {
            "tags": []
          }
        }
      ]
    },
    {
      "cell_type": "markdown",
      "metadata": {
        "id": "ii9JrG0bqN36",
        "colab_type": "text"
      },
      "source": [
        "#Explanation of Monte Carlo's model\n",
        "\n",
        ">Circle's quarter has an area of (πr²)/4, but whole square has an area of r².\n",
        "\n",
        ">The ratio of circle's area to square's area is: \n",
        "\n",
        ">$ ratio = \\frac{πr²/4}{r²} = \\frac{π}{4} $\n",
        "\n",
        ">$ π = 4*ratio $\n",
        "\n",
        "So we conclude this: \n",
        "π ≈ 4 x (number of points in the circle / total number of points).\n",
        "\n",
        "![pi.gif](data:image/gif;base64,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)"
      ]
    },
    {
      "cell_type": "code",
      "metadata": {
        "id": "awaAe-1sqQUC",
        "colab_type": "code",
        "colab": {}
      },
      "source": [
        ""
      ],
      "execution_count": null,
      "outputs": []
    }
  ]
}